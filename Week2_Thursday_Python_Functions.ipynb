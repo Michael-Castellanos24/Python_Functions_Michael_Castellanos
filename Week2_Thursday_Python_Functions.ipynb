{
 "cells": [
  {
   "cell_type": "code",
   "execution_count": 37,
   "id": "749a7b37-3b89-42c5-a93c-c0ac077ac92e",
   "metadata": {},
   "outputs": [],
   "source": [
    "#Task 1: Write a function named hello_world that prints \"Hello, world!\".\n",
    "def hello_world():\n",
    "    print(\"Hello World!\")\n",
    "\n",
    "#Task 2: Write a function named greet that takes a name parameter and prints a personalized greeting:\n",
    "def greet(name):\n",
    "    print(f\"Hello, {name}!\")\n",
    "\n",
    "#Task 3: Write a function named calculate_area that calculates the area of a rectangle:\n",
    "def calculated_area(length, width):\n",
    "    return length * width\n",
    "\n",
    "#Task 4: Write a function named power that calculates a number raised to a power:\n",
    "def power(base, exponent=2):\n",
    "    return base ** exponent\n",
    "\n",
    "#Task 5: Write a function named get_full_name that combines first, middle, and last names:\n",
    "\n",
    "def get_full_name(first, last, middle = \"\"):\n",
    "    if middle:\n",
    "        return f\"{first} {last} {middle}\" #this is a string\n",
    "    else:\n",
    "        return first + \" \" + last #this is concatination\n"
   ]
  },
  {
   "cell_type": "code",
   "execution_count": 13,
   "id": "87300fc1-9406-4dc1-bdc0-45e917c8cbf6",
   "metadata": {},
   "outputs": [],
   "source": [
    "#Task 6: celsius_to_fahrenheit: Converts Celsius to Fahrenheit using the formula:\n",
    "#F = C * 9/5 + 32\n",
    "#fahrenheit_to_celsius: Converts Fahrenheit to Celsius using the formula:\n",
    "#C = (F - 32) * 5/9\n",
    "\n",
    "def celcius_to_fahrenheit(celcius):\n",
    "    return celcius * 9/5 + 32\n",
    "def fahrenheit_to_celcius(fahrenheit):\n",
    "    return (fahrenheit - 32) * 5/9\n",
    "\n",
    "#Task 7: Write a function named analyze_temperature that:\n",
    "#Takes a temperature value and a unit ('C' or 'F').\n",
    "#Converts the temperature to the other unit.\n",
    "#Returns a description of the weather:\n",
    "#Below 0°C: \"freezing\"\n",
    "#0-15°C: \"cold\"\n",
    "#15-25°C: \"moderate\"\n",
    "#Above 25°C: \"hot\"\n",
    "\n",
    "def analyze_temperature(value, unit):\n",
    "    if unit.upper() == \"F\":\n",
    "        value = fahrenheit_to_celcius(value)\n",
    "\n",
    "    if value < 0:\n",
    "        return \"freezing\"\n",
    "    elif value <= 15:\n",
    "        return \"cold\"\n",
    "    elif value <= 25:\n",
    "        return \"moderate\"\n",
    "    else:\n",
    "        return \"hot\""
   ]
  },
  {
   "cell_type": "code",
   "execution_count": 17,
   "id": "61d84888-0dc2-421a-9b3d-38271d7c343c",
   "metadata": {},
   "outputs": [],
   "source": [
    "#Task 8: Write a function named calculate_average that:\n",
    "#Accepts any number of numeric arguments.\n",
    "#Returns the average of all numbers provided.\n",
    "\n",
    "def calculate_average(*numbers):\n",
    "    return sum(numbers) / len(numbers) if numbers else 0"
   ]
  },
  {
   "cell_type": "code",
   "execution_count": 18,
   "id": "a4190f36-8ddb-4965-ab5e-6beb48b23493",
   "metadata": {},
   "outputs": [
    {
     "data": {
      "text/plain": [
       "17.0"
      ]
     },
     "execution_count": 18,
     "metadata": {},
     "output_type": "execute_result"
    }
   ],
   "source": [
    "calculate_average(5, 10, 15, 25, 30)"
   ]
  },
  {
   "cell_type": "code",
   "execution_count": null,
   "id": "bd72fad6-8fcd-4025-a356-8bfc5344e967",
   "metadata": {},
   "outputs": [],
   "source": [
    "#Task 9: Write a function named calculate_final_grade that:\n",
    "#Takes a student's name and any number of assignment scores.\n",
    "#Calculates the average score.\n",
    "#Determines the letter grade:\n",
    "#90+: A\n",
    "#80-89: B\n",
    "#70-79: C\n",
    "#60-69: D\n",
    "#Below 60: F\n",
    "#Returns a formatted string:\n",
    "#Example: \"Alice's final grade is 85 (B).\"\n",
    "\n",
    "def calculate_final_grade(name, *scores):\n",
    "    avg_score = sum(scores) / len(scores)\n",
    "\n",
    "    if avg_score > 90:\n",
    "        grade = \"A\"\n",
    "    elif avg_score > 80:\n",
    "        grade = \"B\"\n",
    "    elif avg_score > 70:\n",
    "        grade = \"C\"\n",
    "    elif avg_score > 60: \n",
    "        grade = \"D\"\n",
    "    else:\n",
    "        grade = \"F\"\n",
    "\n",
    "    return f\"{name}'s final grade is {avg_score} ({grade}).\"\n",
    "    "
   ]
  }
 ],
 "metadata": {
  "kernelspec": {
   "display_name": "Python [conda env:base] *",
   "language": "python",
   "name": "conda-base-py"
  },
  "language_info": {
   "codemirror_mode": {
    "name": "ipython",
    "version": 3
   },
   "file_extension": ".py",
   "mimetype": "text/x-python",
   "name": "python",
   "nbconvert_exporter": "python",
   "pygments_lexer": "ipython3",
   "version": "3.13.5"
  }
 },
 "nbformat": 4,
 "nbformat_minor": 5
}
